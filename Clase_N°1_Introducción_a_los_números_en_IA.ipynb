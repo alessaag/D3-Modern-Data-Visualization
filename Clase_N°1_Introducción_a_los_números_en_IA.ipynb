{
  "nbformat": 4,
  "nbformat_minor": 0,
  "metadata": {
    "colab": {
      "provenance": [],
      "collapsed_sections": [
        "P2Jc7nwrTlzX",
        "E2llufJiUGu2"
      ],
      "include_colab_link": true
    },
    "kernelspec": {
      "name": "python3",
      "display_name": "Python 3"
    },
    "language_info": {
      "name": "python"
    }
  },
  "cells": [
    {
      "cell_type": "markdown",
      "metadata": {
        "id": "view-in-github",
        "colab_type": "text"
      },
      "source": [
        "<a href=\"https://colab.research.google.com/github/alessaag/D3-Modern-Data-Visualization/blob/main/Clase_N%C2%B01_Introducci%C3%B3n_a_los_n%C3%BAmeros_en_IA.ipynb\" target=\"_parent\"><img src=\"https://colab.research.google.com/assets/colab-badge.svg\" alt=\"Open In Colab\"/></a>"
      ]
    },
    {
      "cell_type": "markdown",
      "source": [
        "# 🔢**REPRESENTACIÓN DE NÚMEROS EN PHYTON** 🔢"
      ],
      "metadata": {
        "id": "kLKM-etUe_kk"
      }
    },
    {
      "cell_type": "markdown",
      "source": [
        "\n",
        "✅**DECLARACIÓN DE NÚMEROS ENTEROS (Z)**\n",
        "---\n",
        "\n",
        "\n",
        "\n"
      ],
      "metadata": {
        "id": "GW5DRpyDOb5v"
      }
    },
    {
      "cell_type": "code",
      "source": [
        "edad = 25"
      ],
      "metadata": {
        "id": "EMRIo1zZiqz0"
      },
      "execution_count": null,
      "outputs": []
    },
    {
      "cell_type": "code",
      "source": [
        "numero_de_amigos = 5"
      ],
      "metadata": {
        "id": "9GDUA7JnTS3O"
      },
      "execution_count": null,
      "outputs": []
    },
    {
      "cell_type": "code",
      "source": [
        "puntaje = 100"
      ],
      "metadata": {
        "id": "BP9rENZpTkFQ"
      },
      "execution_count": null,
      "outputs": []
    },
    {
      "cell_type": "markdown",
      "source": [
        "✅**DECLARACIÓN DE NÚMEROS REALES (R)**\n",
        "---\n",
        "\n",
        "---\n",
        "\n"
      ],
      "metadata": {
        "id": "P2Jc7nwrTlzX"
      }
    },
    {
      "cell_type": "code",
      "source": [
        "estatura = 1.75"
      ],
      "metadata": {
        "id": "4otgIRjLTkuU"
      },
      "execution_count": null,
      "outputs": []
    },
    {
      "cell_type": "code",
      "source": [
        "temperatura = 37.5"
      ],
      "metadata": {
        "id": "-qt_2Gk9T0_C"
      },
      "execution_count": null,
      "outputs": []
    },
    {
      "cell_type": "code",
      "source": [
        "pi = 3.14159"
      ],
      "metadata": {
        "id": "UC3j5BOdT4bs"
      },
      "execution_count": null,
      "outputs": []
    },
    {
      "cell_type": "markdown",
      "source": [
        "✅ **DECLARIACIÓN DE NÚMEROS COMPLEJOS (C)**\n",
        "---\n",
        "\n"
      ],
      "metadata": {
        "id": "E2llufJiUGu2"
      }
    },
    {
      "cell_type": "code",
      "source": [
        "numero_complejo = 1 + 2j"
      ],
      "metadata": {
        "id": "a_-gzGmbUMR7"
      },
      "execution_count": null,
      "outputs": []
    },
    {
      "cell_type": "code",
      "source": [
        "otro_numero_complejo = 3 - 4j"
      ],
      "metadata": {
        "id": "SRYGqe_-UXe2"
      },
      "execution_count": null,
      "outputs": []
    }
  ]
}